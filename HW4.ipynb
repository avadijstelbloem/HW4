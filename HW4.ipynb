{
  "nbformat": 4,
  "nbformat_minor": 0,
  "metadata": {
    "colab": {
      "name": "HW4.ipynb",
      "provenance": [],
      "authorship_tag": "ABX9TyPItaHj3lU048GdW9FMI+Tc",
      "include_colab_link": true
    },
    "kernelspec": {
      "name": "python3",
      "display_name": "Python 3"
    },
    "language_info": {
      "name": "python"
    }
  },
  "cells": [
    {
      "cell_type": "markdown",
      "metadata": {
        "id": "view-in-github",
        "colab_type": "text"
      },
      "source": [
        "<a href=\"https://colab.research.google.com/github/avadijstelbloem/HW4/blob/main/HW4.ipynb\" target=\"_parent\"><img src=\"https://colab.research.google.com/assets/colab-badge.svg\" alt=\"Open In Colab\"/></a>"
      ]
    },
    {
      "cell_type": "code",
      "execution_count": 1,
      "metadata": {
        "colab": {
          "base_uri": "https://localhost:8080/"
        },
        "id": "GOC-d2N_aLzk",
        "outputId": "64a274d8-d5da-4453-ba8a-80764efa55d8"
      },
      "outputs": [
        {
          "output_type": "stream",
          "name": "stdout",
          "text": [
            "To authorize access needed by Earth Engine, open the following URL in a web browser and follow the instructions. If the web browser does not start automatically, please manually browse the URL below.\n",
            "\n",
            "    https://accounts.google.com/o/oauth2/auth?client_id=517222506229-vsmmajv00ul0bs7p89v5m89qs8eb9359.apps.googleusercontent.com&scope=https%3A%2F%2Fwww.googleapis.com%2Fauth%2Fearthengine+https%3A%2F%2Fwww.googleapis.com%2Fauth%2Fdevstorage.full_control&redirect_uri=urn%3Aietf%3Awg%3Aoauth%3A2.0%3Aoob&response_type=code&code_challenge=13dGnL-Ybm71bEWwGg5HtnJH0_4GELNBcTMQ5IMBkCw&code_challenge_method=S256\n",
            "\n",
            "The authorization workflow will generate a code, which you should paste in the box below. \n",
            "Enter verification code: 4/1AX4XfWj7B8Zc_2TD05EERoCzUXTipB9OUkGWZjeRwBpnG4s10KKBLVAlUXw\n",
            "\n",
            "Successfully saved authorization token.\n"
          ]
        }
      ],
      "source": [
        "import ee\n",
        "\n",
        "# Trigger the authentication flow.\n",
        "ee.Authenticate()\n",
        "\n",
        "# Initialize the library.\n",
        "ee.Initialize()"
      ]
    },
    {
      "cell_type": "code",
      "source": [
        "# Import the MODIS land cover collection.\n",
        "lc = ee.ImageCollection('MODIS/006/MCD12Q1')\n",
        "\n",
        "# Import the MODIS land surface temperature collection.\n",
        "lst = ee.ImageCollection('MODIS/006/MOD11A1')\n",
        "\n",
        "# Import the USGS ground elevation image.\n",
        "elv = ee.Image('USGS/SRTMGL1_003')"
      ],
      "metadata": {
        "id": "MGgGsoSBaczu"
      },
      "execution_count": 2,
      "outputs": []
    },
    {
      "cell_type": "code",
      "source": [
        "# Initial date of interest (inclusive).\n",
        "i_date = '2019-01-01'\n",
        "\n",
        "# Final date of interest (exclusive).\n",
        "f_date = '2022-01-01'\n",
        "\n",
        "# Selection of appropriate bands and dates for LST.\n",
        "lst = lst.select('LST_Day_1km', 'QC_Day').filterDate(i_date, f_date)"
      ],
      "metadata": {
        "id": "vWkNDn04agEk"
      },
      "execution_count": 3,
      "outputs": []
    },
    {
      "cell_type": "code",
      "source": [
        "# Antwerp, Belgium.\n",
        "u_lon = 4.4051\n",
        "u_lat = 51.2213\n",
        "u_poi = ee.Geometry.Point(u_lon, u_lat)"
      ],
      "metadata": {
        "id": "gY66FS9fak1Q"
      },
      "execution_count": 4,
      "outputs": []
    },
    {
      "cell_type": "code",
      "source": [
        "# Define a region of interest with a buffer zone of 1000 km around Antwerp.\n",
        "roi = u_poi.buffer(1e6)"
      ],
      "metadata": {
        "id": "0It2ZlKXanrk"
      },
      "execution_count": 5,
      "outputs": []
    },
    {
      "cell_type": "code",
      "source": [
        "# Reduce the LST collection by mean.\n",
        "lst_img = lst.mean()\n",
        "\n",
        "# Adjust for scale factor.\n",
        "lst_img = lst_img.select('LST_Day_1km').multiply(0.02)\n",
        "\n",
        "# Convert Kelvin to Celsius.\n",
        "lst_img = lst_img.select('LST_Day_1km').add(-273.15)"
      ],
      "metadata": {
        "id": "7wqUtcqaaujy"
      },
      "execution_count": 6,
      "outputs": []
    },
    {
      "cell_type": "code",
      "source": [
        "from IPython.display import Image\n",
        "\n"
      ],
      "metadata": {
        "id": "aA_Q34vScEg_"
      },
      "execution_count": 12,
      "outputs": []
    },
    {
      "cell_type": "code",
      "source": [
        "# Create a buffer zone of 10 km around Antwerp.\n",
        "antwerp = u_poi.buffer(10000)  # meters\n",
        "\n",
        "url = elv_img.getThumbUrl({\n",
        "    'min': 0, 'max': 25, 'region': antwerp, 'dimensions': 512,\n",
        "    'palette': ['pink', 'green', 'blue', 'red', 'yellow']})\n",
        "Image(url=url)\n",
        "print(url)"
      ],
      "metadata": {
        "colab": {
          "base_uri": "https://localhost:8080/"
        },
        "id": "SOmsZXs-bZk4",
        "outputId": "a7f6b421-a0f8-44e0-c6a6-6441aa2d50a6"
      },
      "execution_count": 13,
      "outputs": [
        {
          "output_type": "stream",
          "name": "stdout",
          "text": [
            "https://earthengine.googleapis.com/v1alpha/projects/earthengine-legacy/thumbnails/71049b3e2e854f4390653369948f93ad-9bb75d4b24880bf2aba5a78fb74160d5:getPixels\n"
          ]
        }
      ]
    }
  ]
}